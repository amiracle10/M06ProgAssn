{
 "cells": [
  {
   "cell_type": "code",
   "execution_count": 8,
   "id": "02d35f6d-8baf-4950-b1f0-0bf64ce877b4",
   "metadata": {},
   "outputs": [],
   "source": [
    "from datetime import datetime\n",
    "current_date = datetime.now().strftime(\"%Y-%m-%d\")\n",
    "with open (\"today.txt\", \"w\") as file:\n",
    "    file.write(current_date)"
   ]
  },
  {
   "cell_type": "code",
   "execution_count": 16,
   "id": "ad2cbb47-1595-442a-a7d4-9752400a64bc",
   "metadata": {},
   "outputs": [
    {
     "name": "stdout",
     "output_type": "stream",
     "text": [
      "2024-11-26\n"
     ]
    }
   ],
   "source": [
    "with open(\"today.txt\", \"r\") as file:\n",
    "    today_string = file.read()\n",
    "print(f\"{today_string}\")"
   ]
  },
  {
   "cell_type": "code",
   "execution_count": 22,
   "id": "6910c3a8-71e9-450b-9cb9-2d4f33580d1b",
   "metadata": {},
   "outputs": [
    {
     "name": "stdout",
     "output_type": "stream",
     "text": [
      "2024-11-26\n"
     ]
    }
   ],
   "source": [
    "parsed_date = datetime.strptime(today_string, \"%Y-%m-%d\")\n",
    "print(parsed_date.date())"
   ]
  },
  {
   "cell_type": "code",
   "execution_count": null,
   "id": "1c7c11d5-5cae-495c-888f-f9c3ca51e6d5",
   "metadata": {},
   "outputs": [],
   "source": []
  }
 ],
 "metadata": {
  "kernelspec": {
   "display_name": "Python 3 (ipykernel)",
   "language": "python",
   "name": "python3"
  },
  "language_info": {
   "codemirror_mode": {
    "name": "ipython",
    "version": 3
   },
   "file_extension": ".py",
   "mimetype": "text/x-python",
   "name": "python",
   "nbconvert_exporter": "python",
   "pygments_lexer": "ipython3",
   "version": "3.12.7"
  }
 },
 "nbformat": 4,
 "nbformat_minor": 5
}
